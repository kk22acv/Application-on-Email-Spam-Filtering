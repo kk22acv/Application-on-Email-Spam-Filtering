{
 "cells": [
  {
   "cell_type": "code",
   "execution_count": 1,
   "id": "5326de34",
   "metadata": {},
   "outputs": [
    {
     "name": "stderr",
     "output_type": "stream",
     "text": [
      "[nltk_data] Downloading package punkt to\n",
      "[nltk_data]     C:\\Users\\user\\AppData\\Roaming\\nltk_data...\n",
      "[nltk_data]   Package punkt is already up-to-date!\n",
      "[nltk_data] Downloading package stopwords to\n",
      "[nltk_data]     C:\\Users\\user\\AppData\\Roaming\\nltk_data...\n",
      "[nltk_data]   Package stopwords is already up-to-date!\n",
      "[nltk_data] Downloading package wordnet to\n",
      "[nltk_data]     C:\\Users\\user\\AppData\\Roaming\\nltk_data...\n",
      "[nltk_data]   Package wordnet is already up-to-date!\n"
     ]
    }
   ],
   "source": [
    "import warnings\n",
    "warnings.filterwarnings(\"ignore\")\n",
    "import numpy as nu, pandas as pds, os, math, matplotlib.pyplot as matsp, seaborn as sbsp, nltk\n",
    "nltk.download('punkt')\n",
    "nltk.download('stopwords') \n",
    "nltk.download('wordnet')\n",
    "from nltk import corpus    \n",
    "from sklearn import neighbors, ensemble, linear_model, naive_bayes, neural_network,metrics, model_selection, utils\n",
    "from sklearn.feature_extraction.text import TfidfVectorizer,CountVectorizer\n",
    "from sklearn.utils import resample\n",
    "import datetime\n",
    "import pickle"
   ]
  },
  {
   "cell_type": "code",
   "execution_count": 7,
   "id": "b05de676",
   "metadata": {
    "scrolled": true
   },
   "outputs": [
    {
     "data": {
      "text/html": [
       "<div>\n",
       "<style scoped>\n",
       "    .dataframe tbody tr th:only-of-type {\n",
       "        vertical-align: middle;\n",
       "    }\n",
       "\n",
       "    .dataframe tbody tr th {\n",
       "        vertical-align: top;\n",
       "    }\n",
       "\n",
       "    .dataframe thead th {\n",
       "        text-align: right;\n",
       "    }\n",
       "</style>\n",
       "<table border=\"1\" class=\"dataframe\">\n",
       "  <thead>\n",
       "    <tr style=\"text-align: right;\">\n",
       "      <th></th>\n",
       "      <th>Message</th>\n",
       "      <th>Spam/Ham</th>\n",
       "    </tr>\n",
       "  </thead>\n",
       "  <tbody>\n",
       "    <tr>\n",
       "      <th>0</th>\n",
       "      <td>NaN</td>\n",
       "      <td>ham</td>\n",
       "    </tr>\n",
       "    <tr>\n",
       "      <th>1</th>\n",
       "      <td>gary , production from the high island larger ...</td>\n",
       "      <td>ham</td>\n",
       "    </tr>\n",
       "    <tr>\n",
       "      <th>2</th>\n",
       "      <td>- calpine daily gas nomination 1 . doc</td>\n",
       "      <td>ham</td>\n",
       "    </tr>\n",
       "    <tr>\n",
       "      <th>3</th>\n",
       "      <td>fyi - see note below - already done .\\nstella\\...</td>\n",
       "      <td>ham</td>\n",
       "    </tr>\n",
       "    <tr>\n",
       "      <th>4</th>\n",
       "      <td>fyi .\\n- - - - - - - - - - - - - - - - - - - -...</td>\n",
       "      <td>ham</td>\n",
       "    </tr>\n",
       "  </tbody>\n",
       "</table>\n",
       "</div>"
      ],
      "text/plain": [
       "                                             Message Spam/Ham\n",
       "0                                                NaN      ham\n",
       "1  gary , production from the high island larger ...      ham\n",
       "2             - calpine daily gas nomination 1 . doc      ham\n",
       "3  fyi - see note below - already done .\\nstella\\...      ham\n",
       "4  fyi .\\n- - - - - - - - - - - - - - - - - - - -...      ham"
      ]
     },
     "execution_count": 7,
     "metadata": {},
     "output_type": "execute_result"
    }
   ],
   "source": [
    "def SpamDataReading():\n",
    "    ph=pds.read_csv(\"enron_spam_data.csv\")\n",
    "    if len(ph.columns)>2:\n",
    "        ph=ph[['Message','Spam/Ham']]\n",
    "    return ph\n",
    "SpmData=SpamDataReading()\n",
    "SpmData.head()"
   ]
  },
  {
   "cell_type": "code",
   "execution_count": 8,
   "id": "7bc3d174",
   "metadata": {},
   "outputs": [
    {
     "name": "stdout",
     "output_type": "stream",
     "text": [
      "Spam/Ham\n",
      "spam    17171\n",
      "ham     16545\n",
      "Name: count, dtype: int64\n"
     ]
    },
    {
     "data": {
      "image/png": "[encoded data removed]",
      "text/plain": [
       "<Figure size 500x300 with 1 Axes>"
      ]
     },
     "metadata": {},
     "output_type": "display_data"
    }
   ],
   "source": [
    "def EmailVIS(ph):\n",
    "    trgvar='Spam/Ham'\n",
    "    vctr=ph[trgvar].value_counts()\n",
    "    print(vctr)\n",
    "    vctr.plot(kind='barh',figsize=(5,3),title=\"Class Counts in Data\",color=['m','b'],alpha=0.4)\n",
    "    matsp.grid()\n",
    "    matsp.show()\n",
    "EmailVIS(SpmData)"
   ]
  },
  {
   "cell_type": "code",
   "execution_count": 9,
   "id": "8946c77e",
   "metadata": {},
   "outputs": [
    {
     "name": "stdout",
     "output_type": "stream",
     "text": [
      "\n",
      "Feature Details Before Cleaning\n",
      "\n",
      "<class 'pandas.core.frame.DataFrame'>\n",
      "RangeIndex: 33716 entries, 0 to 33715\n",
      "Data columns (total 2 columns):\n",
      " #   Column    Non-Null Count  Dtype \n",
      "---  ------    --------------  ----- \n",
      " 0   Message   33664 non-null  object\n",
      " 1   Spam/Ham  33716 non-null  object\n",
      "dtypes: object(2)\n",
      "memory usage: 526.9+ KB\n",
      "None \n",
      "\n",
      "\n",
      "Feature Details After Cleaning\n",
      "\n",
      "<class 'pandas.core.frame.DataFrame'>\n",
      "Index: 33664 entries, 1 to 33715\n",
      "Data columns (total 2 columns):\n",
      " #   Column    Non-Null Count  Dtype \n",
      "---  ------    --------------  ----- \n",
      " 0   Message   33664 non-null  object\n",
      " 1   Spam/Ham  33664 non-null  object\n",
      "dtypes: object(2)\n",
      "memory usage: 789.0+ KB\n",
      "None \n",
      "\n"
     ]
    },
    {
     "data": {
      "text/html": [
       "<div>\n",
       "<style scoped>\n",
       "    .dataframe tbody tr th:only-of-type {\n",
       "        vertical-align: middle;\n",
       "    }\n",
       "\n",
       "    .dataframe tbody tr th {\n",
       "        vertical-align: top;\n",
       "    }\n",
       "\n",
       "    .dataframe thead th {\n",
       "        text-align: right;\n",
       "    }\n",
       "</style>\n",
       "<table border=\"1\" class=\"dataframe\">\n",
       "  <thead>\n",
       "    <tr style=\"text-align: right;\">\n",
       "      <th></th>\n",
       "      <th>Message</th>\n",
       "      <th>Spam/Ham</th>\n",
       "    </tr>\n",
       "  </thead>\n",
       "  <tbody>\n",
       "    <tr>\n",
       "      <th>1</th>\n",
       "      <td>gary , production from the high island larger ...</td>\n",
       "      <td>ham</td>\n",
       "    </tr>\n",
       "    <tr>\n",
       "      <th>2</th>\n",
       "      <td>- calpine daily gas nomination 1 . doc</td>\n",
       "      <td>ham</td>\n",
       "    </tr>\n",
       "    <tr>\n",
       "      <th>3</th>\n",
       "      <td>fyi - see note below - already done .\\nstella\\...</td>\n",
       "      <td>ham</td>\n",
       "    </tr>\n",
       "    <tr>\n",
       "      <th>4</th>\n",
       "      <td>fyi .\\n- - - - - - - - - - - - - - - - - - - -...</td>\n",
       "      <td>ham</td>\n",
       "    </tr>\n",
       "    <tr>\n",
       "      <th>5</th>\n",
       "      <td>jackie ,\\nsince the inlet to 3 river plant is ...</td>\n",
       "      <td>ham</td>\n",
       "    </tr>\n",
       "  </tbody>\n",
       "</table>\n",
       "</div>"
      ],
      "text/plain": [
       "                                             Message Spam/Ham\n",
       "1  gary , production from the high island larger ...      ham\n",
       "2             - calpine daily gas nomination 1 . doc      ham\n",
       "3  fyi - see note below - already done .\\nstella\\...      ham\n",
       "4  fyi .\\n- - - - - - - - - - - - - - - - - - - -...      ham\n",
       "5  jackie ,\\nsince the inlet to 3 river plant is ...      ham"
      ]
     },
     "execution_count": 9,
     "metadata": {},
     "output_type": "execute_result"
    }
   ],
   "source": [
    "def EmailFetDetails(sp):\n",
    "    print(\"\\nFeature Details Before Cleaning\\n\")\n",
    "    print(sp.info(),\"\\n\")\n",
    "    mssp=sum(sp.isna().sum())\n",
    "    if mssp>0:\n",
    "        sp=sp.dropna()\n",
    "        print(\"\\nFeature Details After Cleaning\\n\")\n",
    "        print(sp.info(),\"\\n\")\n",
    "    return sp\n",
    "    \n",
    "SpmData=EmailFetDetails(SpmData)\n",
    "SpmData.head()"
   ]
  },
  {
   "cell_type": "code",
   "execution_count": 10,
   "id": "2c4069c2",
   "metadata": {},
   "outputs": [
    {
     "data": {
      "text/html": [
       "<div>\n",
       "<style scoped>\n",
       "    .dataframe tbody tr th:only-of-type {\n",
       "        vertical-align: middle;\n",
       "    }\n",
       "\n",
       "    .dataframe tbody tr th {\n",
       "        vertical-align: top;\n",
       "    }\n",
       "\n",
       "    .dataframe thead th {\n",
       "        text-align: right;\n",
       "    }\n",
       "</style>\n",
       "<table border=\"1\" class=\"dataframe\">\n",
       "  <thead>\n",
       "    <tr style=\"text-align: right;\">\n",
       "      <th></th>\n",
       "      <th>Message</th>\n",
       "      <th>Spam/Ham</th>\n",
       "    </tr>\n",
       "  </thead>\n",
       "  <tbody>\n",
       "    <tr>\n",
       "      <th>1</th>\n",
       "      <td>gary production high island larger block comme...</td>\n",
       "      <td>ham</td>\n",
       "    </tr>\n",
       "    <tr>\n",
       "      <th>2</th>\n",
       "      <td>calpine daily gas nomination doc</td>\n",
       "      <td>ham</td>\n",
       "    </tr>\n",
       "    <tr>\n",
       "      <th>3</th>\n",
       "      <td>fyi see note already done stella forwarded ste...</td>\n",
       "      <td>ham</td>\n",
       "    </tr>\n",
       "    <tr>\n",
       "      <th>4</th>\n",
       "      <td>fyi forwarded lauri allen hou ect pm kimberly ...</td>\n",
       "      <td>ham</td>\n",
       "    </tr>\n",
       "    <tr>\n",
       "      <th>5</th>\n",
       "      <td>jackie since inlet river plant shut last day f...</td>\n",
       "      <td>ham</td>\n",
       "    </tr>\n",
       "  </tbody>\n",
       "</table>\n",
       "</div>"
      ],
      "text/plain": [
       "                                             Message Spam/Ham\n",
       "1  gary production high island larger block comme...      ham\n",
       "2                   calpine daily gas nomination doc      ham\n",
       "3  fyi see note already done stella forwarded ste...      ham\n",
       "4  fyi forwarded lauri allen hou ect pm kimberly ...      ham\n",
       "5  jackie since inlet river plant shut last day f...      ham"
      ]
     },
     "execution_count": 10,
     "metadata": {},
     "output_type": "execute_result"
    }
   ],
   "source": [
    "def TextCleanEmail(sp):\n",
    "    SpStopsEm = list(corpus.stopwords.words('english'))\n",
    "    SpCleaned=\"\"\n",
    "    for e in sp:\n",
    "        if e.isalpha()==True:\n",
    "            SpCleaned+=e\n",
    "        if e.isalnum()==False:\n",
    "            pass\n",
    "        if e==\"\\n\" or e==\" \" or e==\":\" or e==\";\" or e==\",\":\n",
    "            SpCleaned+=\" \"\n",
    "    SpSplit=SpCleaned.lower()\n",
    "    TknSp=SpSplit.split()\n",
    "    SpStopsEmCln=[]\n",
    "    for i in TknSp:\n",
    "        if i not in SpStopsEm:\n",
    "            SpStopsEmCln.append(i)\n",
    "    return ' '.join(SpStopsEmCln)\n",
    "\n",
    "MsgSp=SpmData['Message'].tolist()\n",
    "MsgCleaned=[]\n",
    "for t in MsgSp:\n",
    "    MsgCleaned.append(TextCleanEmail(t))\n",
    "SpmData['Message']=MsgCleaned\n",
    "SpmData.head()"
   ]
  },
  {
   "cell_type": "code",
   "execution_count": 12,
   "id": "ffcac96a",
   "metadata": {},
   "outputs": [
    {
     "data": {
      "image/png": "[encoded data removed]",
      "text/plain": [
       "<Figure size 400x300 with 1 Axes>"
      ]
     },
     "metadata": {},
     "output_type": "display_data"
    }
   ],
   "source": [
    "meanlngth=[]\n",
    "SpCls=SpmData['Spam/Ham'].unique()\n",
    "for x in SpCls:\n",
    "    subdata=SpmData[SpmData['Spam/Ham']==x].reset_index(drop=True)\n",
    "    lengths=[]\n",
    "    for b in subdata['Message']:\n",
    "        lengths.append(len(b))\n",
    "    meanlngth.append(nu.mean(nu.array(lengths)))\n",
    "\n",
    "matsp.figure(figsize=(4,3))\n",
    "matsp.title(\"Lengths(Average) of Emails\") \n",
    "matsp.bar(SpCls,meanlngth)\n",
    "matsp.grid()\n",
    "matsp.show()"
   ]
  },
  {
   "cell_type": "code",
   "execution_count": null,
   "id": "6a68df37",
   "metadata": {},
   "outputs": [],
   "source": []
  }
 ],
 "metadata": {
  "kernelspec": {
   "display_name": "Python 3 (ipykernel)",
   "language": "python",
   "name": "python3"
  },
  "language_info": {
   "codemirror_mode": {
    "name": "ipython",
    "version": 3
   },
   "file_extension": ".py",
   "mimetype": "text/x-python",
   "name": "python",
   "nbconvert_exporter": "python",
   "pygments_lexer": "ipython3",
   "version": "3.9.13"
  }
 },
 "nbformat": 4,
 "nbformat_minor": 5
}
