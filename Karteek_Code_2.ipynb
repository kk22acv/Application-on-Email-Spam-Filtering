{
 "cells": [
  {
   "cell_type": "code",
   "execution_count": 1,
   "id": "5326de34",
   "metadata": {},
   "outputs": [
    {
     "name": "stderr",
     "output_type": "stream",
     "text": [
      "[nltk_data] Downloading package punkt to\n",
      "[nltk_data]     C:\\Users\\user\\AppData\\Roaming\\nltk_data...\n",
      "[nltk_data]   Package punkt is already up-to-date!\n",
      "[nltk_data] Downloading package stopwords to\n",
      "[nltk_data]     C:\\Users\\user\\AppData\\Roaming\\nltk_data...\n",
      "[nltk_data]   Package stopwords is already up-to-date!\n",
      "[nltk_data] Downloading package wordnet to\n",
      "[nltk_data]     C:\\Users\\user\\AppData\\Roaming\\nltk_data...\n",
      "[nltk_data]   Package wordnet is already up-to-date!\n"
     ]
    }
   ],
   "source": [
    "import warnings\n",
    "warnings.filterwarnings(\"ignore\")\n",
    "import numpy as nu, pandas as pds, os, math, matplotlib.pyplot as matsp, seaborn as sbsp, nltk\n",
    "nltk.download('punkt')\n",
    "nltk.download('stopwords') \n",
    "nltk.download('wordnet')\n",
    "from nltk import corpus    \n",
    "from sklearn import neighbors, ensemble, linear_model, naive_bayes, neural_network,metrics, model_selection, utils\n",
    "from sklearn.feature_extraction.text import TfidfVectorizer,CountVectorizer\n",
    "from sklearn.utils import resample\n",
    "import datetime\n",
    "import pickle"
   ]
  },
  {
   "cell_type": "code",
   "execution_count": 2,
   "id": "b05de676",
   "metadata": {
    "scrolled": true
   },
   "outputs": [
    {
     "data": {
      "text/html": [
       "<div>\n",
       "<style scoped>\n",
       "    .dataframe tbody tr th:only-of-type {\n",
       "        vertical-align: middle;\n",
       "    }\n",
       "\n",
       "    .dataframe tbody tr th {\n",
       "        vertical-align: top;\n",
       "    }\n",
       "\n",
       "    .dataframe thead th {\n",
       "        text-align: right;\n",
       "    }\n",
       "</style>\n",
       "<table border=\"1\" class=\"dataframe\">\n",
       "  <thead>\n",
       "    <tr style=\"text-align: right;\">\n",
       "      <th></th>\n",
       "      <th>Message</th>\n",
       "      <th>Spam/Ham</th>\n",
       "    </tr>\n",
       "  </thead>\n",
       "  <tbody>\n",
       "    <tr>\n",
       "      <th>0</th>\n",
       "      <td>NaN</td>\n",
       "      <td>ham</td>\n",
       "    </tr>\n",
       "    <tr>\n",
       "      <th>1</th>\n",
       "      <td>gary , production from the high island larger ...</td>\n",
       "      <td>ham</td>\n",
       "    </tr>\n",
       "    <tr>\n",
       "      <th>2</th>\n",
       "      <td>- calpine daily gas nomination 1 . doc</td>\n",
       "      <td>ham</td>\n",
       "    </tr>\n",
       "    <tr>\n",
       "      <th>3</th>\n",
       "      <td>fyi - see note below - already done .\\nstella\\...</td>\n",
       "      <td>ham</td>\n",
       "    </tr>\n",
       "    <tr>\n",
       "      <th>4</th>\n",
       "      <td>fyi .\\n- - - - - - - - - - - - - - - - - - - -...</td>\n",
       "      <td>ham</td>\n",
       "    </tr>\n",
       "  </tbody>\n",
       "</table>\n",
       "</div>"
      ],
      "text/plain": [
       "                                             Message Spam/Ham\n",
       "0                                                NaN      ham\n",
       "1  gary , production from the high island larger ...      ham\n",
       "2             - calpine daily gas nomination 1 . doc      ham\n",
       "3  fyi - see note below - already done .\\nstella\\...      ham\n",
       "4  fyi .\\n- - - - - - - - - - - - - - - - - - - -...      ham"
      ]
     },
     "execution_count": 2,
     "metadata": {},
     "output_type": "execute_result"
    }
   ],
   "source": [
    "def SpamDataReading():\n",
    "    ph=pds.read_csv(\"enron_spam_data.csv\")\n",
    "    if len(ph.columns)>2:\n",
    "        ph=ph[['Message','Spam/Ham']]\n",
    "    return ph\n",
    "SpmData=SpamDataReading()\n",
    "SpmData.head()"
   ]
  },
  {
   "cell_type": "code",
   "execution_count": 3,
   "id": "7bc3d174",
   "metadata": {},
   "outputs": [
    {
     "name": "stdout",
     "output_type": "stream",
     "text": [
      "Spam/Ham\n",
      "spam    17171\n",
      "ham     16545\n",
      "Name: count, dtype: int64\n"
     ]
    },
    {
     "data": {
      "image/png": "[encoded data removed]",
      "text/plain": [
       "<Figure size 500x300 with 1 Axes>"
      ]
     },
     "metadata": {},
     "output_type": "display_data"
    }
   ],
   "source": [
    "def EmailVIS(ph):\n",
    "    trgvar='Spam/Ham'\n",
    "    vctr=ph[trgvar].value_counts()\n",
    "    print(vctr)\n",
    "    vctr.plot(kind='barh',figsize=(5,3),title=\"Class Counts in Data\",color=['m','b'],alpha=0.4)\n",
    "    matsp.grid()\n",
    "    matsp.show()\n",
    "EmailVIS(SpmData)"
   ]
  },
  {
   "cell_type": "code",
   "execution_count": 4,
   "id": "8946c77e",
   "metadata": {},
   "outputs": [
    {
     "name": "stdout",
     "output_type": "stream",
     "text": [
      "\n",
      "Feature Details Before Cleaning\n",
      "\n",
      "<class 'pandas.core.frame.DataFrame'>\n",
      "RangeIndex: 33716 entries, 0 to 33715\n",
      "Data columns (total 2 columns):\n",
      " #   Column    Non-Null Count  Dtype \n",
      "---  ------    --------------  ----- \n",
      " 0   Message   33664 non-null  object\n",
      " 1   Spam/Ham  33716 non-null  object\n",
      "dtypes: object(2)\n",
      "memory usage: 526.9+ KB\n",
      "None \n",
      "\n",
      "\n",
      "Feature Details After Cleaning\n",
      "\n",
      "<class 'pandas.core.frame.DataFrame'>\n",
      "Index: 33664 entries, 1 to 33715\n",
      "Data columns (total 2 columns):\n",
      " #   Column    Non-Null Count  Dtype \n",
      "---  ------    --------------  ----- \n",
      " 0   Message   33664 non-null  object\n",
      " 1   Spam/Ham  33664 non-null  object\n",
      "dtypes: object(2)\n",
      "memory usage: 789.0+ KB\n",
      "None \n",
      "\n"
     ]
    },
    {
     "data": {
      "text/html": [
       "<div>\n",
       "<style scoped>\n",
       "    .dataframe tbody tr th:only-of-type {\n",
       "        vertical-align: middle;\n",
       "    }\n",
       "\n",
       "    .dataframe tbody tr th {\n",
       "        vertical-align: top;\n",
       "    }\n",
       "\n",
       "    .dataframe thead th {\n",
       "        text-align: right;\n",
       "    }\n",
       "</style>\n",
       "<table border=\"1\" class=\"dataframe\">\n",
       "  <thead>\n",
       "    <tr style=\"text-align: right;\">\n",
       "      <th></th>\n",
       "      <th>Message</th>\n",
       "      <th>Spam/Ham</th>\n",
       "    </tr>\n",
       "  </thead>\n",
       "  <tbody>\n",
       "    <tr>\n",
       "      <th>1</th>\n",
       "      <td>gary , production from the high island larger ...</td>\n",
       "      <td>ham</td>\n",
       "    </tr>\n",
       "    <tr>\n",
       "      <th>2</th>\n",
       "      <td>- calpine daily gas nomination 1 . doc</td>\n",
       "      <td>ham</td>\n",
       "    </tr>\n",
       "    <tr>\n",
       "      <th>3</th>\n",
       "      <td>fyi - see note below - already done .\\nstella\\...</td>\n",
       "      <td>ham</td>\n",
       "    </tr>\n",
       "    <tr>\n",
       "      <th>4</th>\n",
       "      <td>fyi .\\n- - - - - - - - - - - - - - - - - - - -...</td>\n",
       "      <td>ham</td>\n",
       "    </tr>\n",
       "    <tr>\n",
       "      <th>5</th>\n",
       "      <td>jackie ,\\nsince the inlet to 3 river plant is ...</td>\n",
       "      <td>ham</td>\n",
       "    </tr>\n",
       "  </tbody>\n",
       "</table>\n",
       "</div>"
      ],
      "text/plain": [
       "                                             Message Spam/Ham\n",
       "1  gary , production from the high island larger ...      ham\n",
       "2             - calpine daily gas nomination 1 . doc      ham\n",
       "3  fyi - see note below - already done .\\nstella\\...      ham\n",
       "4  fyi .\\n- - - - - - - - - - - - - - - - - - - -...      ham\n",
       "5  jackie ,\\nsince the inlet to 3 river plant is ...      ham"
      ]
     },
     "execution_count": 4,
     "metadata": {},
     "output_type": "execute_result"
    }
   ],
   "source": [
    "def EmailFetDetails(sp):\n",
    "    print(\"\\nFeature Details Before Cleaning\\n\")\n",
    "    print(sp.info(),\"\\n\")\n",
    "    mssp=sum(sp.isna().sum())\n",
    "    if mssp>0:\n",
    "        sp=sp.dropna() \n",
    "        print(\"\\nFeature Details After Cleaning\\n\")\n",
    "        print(sp.info(),\"\\n\")\n",
    "    return sp\n",
    "    \n",
    "SpmData=EmailFetDetails(SpmData)\n",
    "SpmData.head()"
   ]
  },
  {
   "cell_type": "code",
   "execution_count": null,
   "id": "a741308d",
   "metadata": {},
   "outputs": [],
   "source": []
  },
  {
   "cell_type": "code",
   "execution_count": 5,
   "id": "e75c1e4f",
   "metadata": {},
   "outputs": [
    {
     "data": {
      "text/plain": [
       "'python coding'"
      ]
     },
     "execution_count": 5,
     "metadata": {},
     "output_type": "execute_result"
    }
   ],
   "source": [
    "xy=\"python coding\".split()\n",
    "' '.join(xy)"
   ]
  },
  {
   "cell_type": "code",
   "execution_count": 6,
   "id": "2c4069c2",
   "metadata": {},
   "outputs": [
    {
     "data": {
      "text/html": [
       "<div>\n",
       "<style scoped>\n",
       "    .dataframe tbody tr th:only-of-type {\n",
       "        vertical-align: middle;\n",
       "    }\n",
       "\n",
       "    .dataframe tbody tr th {\n",
       "        vertical-align: top;\n",
       "    }\n",
       "\n",
       "    .dataframe thead th {\n",
       "        text-align: right;\n",
       "    }\n",
       "</style>\n",
       "<table border=\"1\" class=\"dataframe\">\n",
       "  <thead>\n",
       "    <tr style=\"text-align: right;\">\n",
       "      <th></th>\n",
       "      <th>Message</th>\n",
       "      <th>Spam/Ham</th>\n",
       "    </tr>\n",
       "  </thead>\n",
       "  <tbody>\n",
       "    <tr>\n",
       "      <th>1</th>\n",
       "      <td>gary production high island larger block comme...</td>\n",
       "      <td>ham</td>\n",
       "    </tr>\n",
       "    <tr>\n",
       "      <th>2</th>\n",
       "      <td>calpine daily gas nomination doc</td>\n",
       "      <td>ham</td>\n",
       "    </tr>\n",
       "    <tr>\n",
       "      <th>3</th>\n",
       "      <td>fyi see note already done stella forwarded ste...</td>\n",
       "      <td>ham</td>\n",
       "    </tr>\n",
       "    <tr>\n",
       "      <th>4</th>\n",
       "      <td>fyi forwarded lauri allen hou ect pm kimberly ...</td>\n",
       "      <td>ham</td>\n",
       "    </tr>\n",
       "    <tr>\n",
       "      <th>5</th>\n",
       "      <td>jackie since inlet river plant shut last day f...</td>\n",
       "      <td>ham</td>\n",
       "    </tr>\n",
       "  </tbody>\n",
       "</table>\n",
       "</div>"
      ],
      "text/plain": [
       "                                             Message Spam/Ham\n",
       "1  gary production high island larger block comme...      ham\n",
       "2                   calpine daily gas nomination doc      ham\n",
       "3  fyi see note already done stella forwarded ste...      ham\n",
       "4  fyi forwarded lauri allen hou ect pm kimberly ...      ham\n",
       "5  jackie since inlet river plant shut last day f...      ham"
      ]
     },
     "execution_count": 6,
     "metadata": {},
     "output_type": "execute_result"
    }
   ],
   "source": [
    "def TextCleanEmail(sp):\n",
    "    SpStopsEm = list(corpus.stopwords.words('english'))\n",
    "    SpCleaned=\"\"\n",
    "    for e in sp:\n",
    "        if e.isalpha()==True:\n",
    "            SpCleaned+=e\n",
    "        if e.isalnum()==False:\n",
    "            pass\n",
    "        if e==\"\\n\" or e==\" \" or e==\":\" or e==\";\" or e==\",\":\n",
    "            SpCleaned+=\" \"\n",
    "    SpSplit=SpCleaned.lower()\n",
    "    TknSp=SpSplit.split()\n",
    "    SpStopsEmCln=[]\n",
    "    for i in TknSp:\n",
    "        if i not in SpStopsEm:\n",
    "            SpStopsEmCln.append(i)\n",
    "    return ' '.join(SpStopsEmCln)\n",
    "\n",
    "MsgSp=SpmData['Message'].tolist()\n",
    "MsgCleaned=[]\n",
    "for t in MsgSp:\n",
    "    MsgCleaned.append(TextCleanEmail(t))\n",
    "SpmData['Message']=MsgCleaned\n",
    "SpmData.head()"
   ]
  },
  {
   "cell_type": "code",
   "execution_count": 7,
   "id": "ffcac96a",
   "metadata": {},
   "outputs": [
    {
     "data": {
      "image/png": "[encoded data removed]",
      "text/plain": [
       "<Figure size 400x300 with 1 Axes>"
      ]
     },
     "metadata": {},
     "output_type": "display_data"
    }
   ],
   "source": [
    "meanlngth=[]\n",
    "SpCls=SpmData['Spam/Ham'].unique()\n",
    "for x in SpCls:\n",
    "    subdata=SpmData[SpmData['Spam/Ham']==x].reset_index(drop=True)\n",
    "    lengths=[]\n",
    "    for b in subdata['Message']:\n",
    "        lengths.append(len(b))\n",
    "    meanlngth.append(nu.mean(nu.array(lengths)))\n",
    "\n",
    "matsp.figure(figsize=(4,3))\n",
    "matsp.title(\"Lengths(Average) of Emails\") \n",
    "matsp.bar(SpCls,meanlngth)\n",
    "matsp.grid()\n",
    "matsp.show()"
   ]
  },
  {
   "cell_type": "code",
   "execution_count": null,
   "id": "6a68df37",
   "metadata": {},
   "outputs": [],
   "source": []
  },
  {
   "cell_type": "code",
   "execution_count": 8,
   "id": "203cca06",
   "metadata": {},
   "outputs": [
    {
     "name": "stdout",
     "output_type": "stream",
     "text": [
      "Class Labels Before Balancing\n",
      "\n",
      "Spam/Ham\n",
      "spam    17171\n",
      "ham     16493\n",
      "Name: count, dtype: int64\n",
      "\n",
      "Class Labels After Balancing\n",
      "\n",
      "Spam/Ham\n",
      "ham     34363\n",
      "spam    34321\n",
      "Name: count, dtype: int64\n",
      "(51513, 2) (17171, 2)\n",
      "\n",
      "Training Class Distribution\n",
      " Spam/Ham\n",
      "ham     25787\n",
      "spam    25726\n",
      "Name: count, dtype: int64\n",
      "\n",
      "Test Class Distribution\n",
      " Spam/Ham\n",
      "spam    8595\n",
      "ham     8576\n",
      "Name: count, dtype: int64\n"
     ]
    }
   ],
   "source": [
    "SpmData1=SpmData.copy()\n",
    "count_top=SpmData1['Spam/Ham'].value_counts().tolist()[0]\n",
    "data_classes=SpmData1['Spam/Ham'].value_counts().index.tolist()\n",
    "\n",
    "print(\"Class Labels Before Balancing\\n\")\n",
    "print(SpmData1['Spam/Ham'].value_counts())\n",
    "\n",
    "Data_EQSp=[]\n",
    "for x in data_classes:\n",
    "    df=SpmData1[SpmData1['Spam/Ham']==x]\n",
    "    df=utils.resample(df, replace = True, n_samples = int(len(df)*(count_top/len(df))), random_state = 32)\n",
    "    Data_EQSp.append(df)\n",
    "SpmData1_EQ=pds.concat(Data_EQSp).reset_index(drop=True)\n",
    "SpmData1_EQ1=utils.resample(SpmData1_EQ, replace = True, n_samples = int(len(SpmData1_EQ)*2), random_state = 32)\n",
    "\n",
    "print(\"\\nClass Labels After Balancing\\n\")\n",
    "print(SpmData1_EQ1['Spam/Ham'].value_counts())\n",
    "\n",
    "SpDtTrPart=SpmData1_EQ1.iloc[0:int(SpmData1_EQ1.shape[0]*0.75)]\n",
    "SpDtTsPart=SpmData1_EQ1.iloc[int(SpmData1_EQ1.shape[0]*0.75):]\n",
    "print(SpDtTrPart.shape,SpDtTsPart.shape)\n",
    "print(\"\\nTraining Class Distribution\\n\",SpDtTrPart['Spam/Ham'].value_counts())\n",
    "print(\"\\nTest Class Distribution\\n\",SpDtTsPart['Spam/Ham'].value_counts())"
   ]
  },
  {
   "cell_type": "code",
   "execution_count": 10,
   "id": "54c082a1",
   "metadata": {},
   "outputs": [
    {
     "name": "stdout",
     "output_type": "stream",
     "text": [
      "Feature Extracted Using CV and UniGram: 40006\n",
      "Feature Extracted Using CV and BiGram: 575070\n"
     ]
    }
   ],
   "source": [
    "txt_SpDtTrPart=SpDtTrPart['Message']\n",
    "txt_SpDtTsPart=SpDtTsPart['Message']\n",
    "ClsTest=SpDtTsPart['Message']\n",
    "ClsTrain=SpDtTrPart['Spam/Ham']\n",
    "CVFetUni=CountVectorizer(stop_words='english', analyzer='word',max_df=0.6,ngram_range=(1,1))\n",
    "TrnVctUniCV=CVFetUni.fit_transform(txt_SpDtTrPart) \n",
    "TstVctUniCV=CVFetUni.transform(txt_SpDtTsPart)\n",
    "\n",
    "CVFetBi=CountVectorizer(stop_words='english', analyzer='word',max_df=0.6,ngram_range=(2,2))\n",
    "TrnVctBiCV=CVFetBi.fit_transform(txt_SpDtTrPart) \n",
    "TstVctBiCV=CVFetBi.transform(txt_SpDtTsPart)\n",
    "\n",
    "print(\"Feature Extracted Using CV and {}:\".format(\"UniGram\"),TrnVctUniCV.shape[1])\n",
    "print(\"Feature Extracted Using CV and {}:\".format(\"BiGram\"),TrnVctBiCV.shape[1])"
   ]
  },
  {
   "cell_type": "code",
   "execution_count": 11,
   "id": "7b014358",
   "metadata": {},
   "outputs": [
    {
     "name": "stdout",
     "output_type": "stream",
     "text": [
      "Feature Extracted Using CV and UniGram: 40006\n",
      "Feature Extracted Using CV and BiGram: 575070\n"
     ]
    }
   ],
   "source": [
    "TFIDFFetUni=TfidfVectorizer(stop_words='english', analyzer='word',max_df=0.6,ngram_range=(1,1))\n",
    "TrnVctUniTF=TFIDFFetUni.fit_transform(txt_SpDtTrPart) \n",
    "TstVctUniTF=TFIDFFetUni.transform(txt_SpDtTsPart)\n",
    "\n",
    "TFIDFFetBi=TfidfVectorizer(stop_words='english', analyzer='word',max_df=0.6,ngram_range=(2,2))\n",
    "TrnVctBiTF=TFIDFFetBi.fit_transform(txt_SpDtTrPart) \n",
    "TstVctBiTF=TFIDFFetBi.transform(txt_SpDtTsPart)\n",
    "\n",
    "print(\"Feature Extracted Using CV and {}:\".format(\"UniGram\"),TrnVctUniTF.shape[1])\n",
    "print(\"Feature Extracted Using CV and {}:\".format(\"BiGram\"),TrnVctBiTF.shape[1])"
   ]
  },
  {
   "cell_type": "code",
   "execution_count": null,
   "id": "58007a3f",
   "metadata": {},
   "outputs": [],
   "source": []
  }
 ],
 "metadata": {
  "kernelspec": {
   "display_name": "Python 3 (ipykernel)",
   "language": "python",
   "name": "python3"
  },
  "language_info": {
   "codemirror_mode": {
    "name": "ipython",
    "version": 3
   },
   "file_extension": ".py",
   "mimetype": "text/x-python",
   "name": "python",
   "nbconvert_exporter": "python",
   "pygments_lexer": "ipython3",
   "version": "3.11.5"
  }
 },
 "nbformat": 4,
 "nbformat_minor": 5
}
